{
 "cells": [
  {
   "cell_type": "code",
   "execution_count": 2,
   "metadata": {},
   "outputs": [
    {
     "name": "stdout",
     "output_type": "stream",
     "text": [
      "['bananas', 'bananas', 'oranges', 'oranges', 'bananas', 'oranges', 'cherries', 'oranges', 'mangoes', 'bananas', 'mangoes', 'bananas', 'mangoes', 'apples', 'bananas', 'mangoes', 'bananas', 'mangoes', 'mangoes', 'cherries', 'bananas', 'cherries', 'oranges', 'cherries', 'apples', 'mangoes', 'cherries', 'cherries', 'cherries', 'mangoes', 'apples', 'apples', 'mangoes', 'apples', 'bananas', 'oranges', 'apples', 'oranges', 'cherries', 'apples', 'oranges', 'mangoes', 'apples', 'apples', 'cherries', 'oranges', 'cherries', 'bananas', 'oranges', 'apples']\n",
      "[82, 87, 80, 89, 83, 70, 73, 98, 92, 77, 77, 71, 88, 88, 84, 88, 71, 91, 79, 90, 71, 83, 77, 99, 87, 88, 75, 81, 91, 89, 81, 71, 97, 94, 89, 98, 85, 86, 97, 77, 82, 86, 70, 73, 77, 90, 90, 70, 70, 81]\n"
     ]
    }
   ],
   "source": [
    "# create a list of fruits, apples, oranges, and bananas, cherries and mangoes each repeated 10 times\n",
    "\n",
    "fruits = ['apples']*10 + ['oranges']*10 + ['bananas']*10 + ['cherries']*10 + ['mangoes']*10\n",
    "\n",
    "# shuffle the list\n",
    "\n",
    "import random\n",
    "\n",
    "random.shuffle(fruits)\n",
    "\n",
    "# print the list\n",
    "\n",
    "print(fruits)\n",
    "\n",
    "# create a list of random numbers between 70 and 100\n",
    "\n",
    "\n",
    "random_numbers = [random.randint(70,100) for i in range(50)]\n",
    "\n",
    "# print the list\n",
    "\n",
    "print(random_numbers)"
   ]
  },
  {
   "cell_type": "code",
   "execution_count": 3,
   "metadata": {},
   "outputs": [
    {
     "name": "stdout",
     "output_type": "stream",
     "text": [
      "    fruits  sales\n",
      "0  bananas     82\n",
      "1  bananas     87\n",
      "2  oranges     80\n",
      "3  oranges     89\n",
      "4  bananas     83\n"
     ]
    }
   ],
   "source": [
    "# create a pandas dataframe with the fruits and random numbers\n",
    "\n",
    "import pandas as pd\n",
    "\n",
    "df = pd.DataFrame({'fruits':fruits, 'sales':random_numbers})\n",
    "\n",
    "# print the first 5 rows of the dataframe\n",
    "\n",
    "print(df.head())"
   ]
  },
  {
   "cell_type": "code",
   "execution_count": 6,
   "metadata": {},
   "outputs": [
    {
     "name": "stdout",
     "output_type": "stream",
     "text": [
      "          sales\n",
      "fruits         \n",
      "mangoes     875\n",
      "cherries    856\n",
      "oranges     840\n"
     ]
    }
   ],
   "source": [
    "# group the dataframe by fruit, sort by sales in descending order, and show the top 3 fruits\n",
    "\n",
    "print(df.groupby('fruits').sum().sort_values('sales', ascending=False).head(3))\n",
    "\n"
   ]
  },
  {
   "cell_type": "code",
   "execution_count": 7,
   "metadata": {},
   "outputs": [
    {
     "name": "stdout",
     "output_type": "stream",
     "text": [
      "     fruits  sales\n",
      "34  bananas     89\n",
      "1   bananas     87\n",
      "14  bananas     84\n",
      "     fruits  sales\n",
      "34  bananas     89\n",
      "1   bananas     87\n",
      "14  bananas     84\n",
      "     fruits  sales\n",
      "7   oranges     98\n",
      "35  oranges     98\n",
      "45  oranges     90\n",
      "     fruits  sales\n",
      "7   oranges     98\n",
      "35  oranges     98\n",
      "45  oranges     90\n",
      "     fruits  sales\n",
      "34  bananas     89\n",
      "1   bananas     87\n",
      "14  bananas     84\n",
      "     fruits  sales\n",
      "7   oranges     98\n",
      "35  oranges     98\n",
      "45  oranges     90\n",
      "      fruits  sales\n",
      "23  cherries     99\n",
      "38  cherries     97\n",
      "28  cherries     91\n",
      "     fruits  sales\n",
      "7   oranges     98\n",
      "35  oranges     98\n",
      "45  oranges     90\n",
      "     fruits  sales\n",
      "32  mangoes     97\n",
      "8   mangoes     92\n",
      "17  mangoes     91\n",
      "     fruits  sales\n",
      "34  bananas     89\n",
      "1   bananas     87\n",
      "14  bananas     84\n",
      "     fruits  sales\n",
      "32  mangoes     97\n",
      "8   mangoes     92\n",
      "17  mangoes     91\n",
      "     fruits  sales\n",
      "34  bananas     89\n",
      "1   bananas     87\n",
      "14  bananas     84\n",
      "     fruits  sales\n",
      "32  mangoes     97\n",
      "8   mangoes     92\n",
      "17  mangoes     91\n",
      "    fruits  sales\n",
      "33  apples     94\n",
      "13  apples     88\n",
      "24  apples     87\n",
      "     fruits  sales\n",
      "34  bananas     89\n",
      "1   bananas     87\n",
      "14  bananas     84\n",
      "     fruits  sales\n",
      "32  mangoes     97\n",
      "8   mangoes     92\n",
      "17  mangoes     91\n",
      "     fruits  sales\n",
      "34  bananas     89\n",
      "1   bananas     87\n",
      "14  bananas     84\n",
      "     fruits  sales\n",
      "32  mangoes     97\n",
      "8   mangoes     92\n",
      "17  mangoes     91\n",
      "     fruits  sales\n",
      "32  mangoes     97\n",
      "8   mangoes     92\n",
      "17  mangoes     91\n",
      "      fruits  sales\n",
      "23  cherries     99\n",
      "38  cherries     97\n",
      "28  cherries     91\n",
      "     fruits  sales\n",
      "34  bananas     89\n",
      "1   bananas     87\n",
      "14  bananas     84\n",
      "      fruits  sales\n",
      "23  cherries     99\n",
      "38  cherries     97\n",
      "28  cherries     91\n",
      "     fruits  sales\n",
      "7   oranges     98\n",
      "35  oranges     98\n",
      "45  oranges     90\n",
      "      fruits  sales\n",
      "23  cherries     99\n",
      "38  cherries     97\n",
      "28  cherries     91\n",
      "    fruits  sales\n",
      "33  apples     94\n",
      "13  apples     88\n",
      "24  apples     87\n",
      "     fruits  sales\n",
      "32  mangoes     97\n",
      "8   mangoes     92\n",
      "17  mangoes     91\n",
      "      fruits  sales\n",
      "23  cherries     99\n",
      "38  cherries     97\n",
      "28  cherries     91\n",
      "      fruits  sales\n",
      "23  cherries     99\n",
      "38  cherries     97\n",
      "28  cherries     91\n",
      "      fruits  sales\n",
      "23  cherries     99\n",
      "38  cherries     97\n",
      "28  cherries     91\n",
      "     fruits  sales\n",
      "32  mangoes     97\n",
      "8   mangoes     92\n",
      "17  mangoes     91\n",
      "    fruits  sales\n",
      "33  apples     94\n",
      "13  apples     88\n",
      "24  apples     87\n",
      "    fruits  sales\n",
      "33  apples     94\n",
      "13  apples     88\n",
      "24  apples     87\n",
      "     fruits  sales\n",
      "32  mangoes     97\n",
      "8   mangoes     92\n",
      "17  mangoes     91\n",
      "    fruits  sales\n",
      "33  apples     94\n",
      "13  apples     88\n",
      "24  apples     87\n",
      "     fruits  sales\n",
      "34  bananas     89\n",
      "1   bananas     87\n",
      "14  bananas     84\n",
      "     fruits  sales\n",
      "7   oranges     98\n",
      "35  oranges     98\n",
      "45  oranges     90\n",
      "    fruits  sales\n",
      "33  apples     94\n",
      "13  apples     88\n",
      "24  apples     87\n",
      "     fruits  sales\n",
      "7   oranges     98\n",
      "35  oranges     98\n",
      "45  oranges     90\n",
      "      fruits  sales\n",
      "23  cherries     99\n",
      "38  cherries     97\n",
      "28  cherries     91\n",
      "    fruits  sales\n",
      "33  apples     94\n",
      "13  apples     88\n",
      "24  apples     87\n",
      "     fruits  sales\n",
      "7   oranges     98\n",
      "35  oranges     98\n",
      "45  oranges     90\n",
      "     fruits  sales\n",
      "32  mangoes     97\n",
      "8   mangoes     92\n",
      "17  mangoes     91\n",
      "    fruits  sales\n",
      "33  apples     94\n",
      "13  apples     88\n",
      "24  apples     87\n",
      "    fruits  sales\n",
      "33  apples     94\n",
      "13  apples     88\n",
      "24  apples     87\n",
      "      fruits  sales\n",
      "23  cherries     99\n",
      "38  cherries     97\n",
      "28  cherries     91\n",
      "     fruits  sales\n",
      "7   oranges     98\n",
      "35  oranges     98\n",
      "45  oranges     90\n",
      "      fruits  sales\n",
      "23  cherries     99\n",
      "38  cherries     97\n",
      "28  cherries     91\n",
      "     fruits  sales\n",
      "34  bananas     89\n",
      "1   bananas     87\n",
      "14  bananas     84\n",
      "     fruits  sales\n",
      "7   oranges     98\n",
      "35  oranges     98\n",
      "45  oranges     90\n",
      "    fruits  sales\n",
      "33  apples     94\n",
      "13  apples     88\n",
      "24  apples     87\n"
     ]
    }
   ],
   "source": [
    "# for each fruit , sort the dataframe by sales in descending order, and show the top 3 fruits\n",
    "\n",
    "for fruit in fruits:  \n",
    "    print(df[df['fruits']==fruit].sort_values('sales', ascending=False).head(3))\n"
   ]
  },
  {
   "cell_type": "code",
   "execution_count": 8,
   "metadata": {},
   "outputs": [
    {
     "data": {
      "text/plain": [
       "<AxesSubplot:xlabel='fruits'>"
      ]
     },
     "execution_count": 8,
     "metadata": {},
     "output_type": "execute_result"
    },
    {
     "data": {
      "image/png": "[encoded data removed]",
      "text/plain": [
       "<Figure size 640x480 with 1 Axes>"
      ]
     },
     "metadata": {},
     "output_type": "display_data"
    }
   ],
   "source": [
    "# bar chart of average sales by fruit\n",
    "\n",
    "df.groupby('fruits').mean().plot(kind='bar')"
   ]
  },
  {
   "cell_type": "code",
   "execution_count": null,
   "metadata": {},
   "outputs": [],
   "source": []
  }
 ],
 "metadata": {
  "kernelspec": {
   "display_name": "Python 3.10.6 ('ds')",
   "language": "python",
   "name": "python3"
  },
  "language_info": {
   "codemirror_mode": {
    "name": "ipython",
    "version": 3
   },
   "file_extension": ".py",
   "mimetype": "text/x-python",
   "name": "python",
   "nbconvert_exporter": "python",
   "pygments_lexer": "ipython3",
   "version": "3.10.6"
  },
  "orig_nbformat": 4,
  "vscode": {
   "interpreter": {
    "hash": "7f9afca31083f2c8560cae21b50c4c7d1f45f3a19df40c364096a53d33977427"
   }
  }
 },
 "nbformat": 4,
 "nbformat_minor": 2
}
